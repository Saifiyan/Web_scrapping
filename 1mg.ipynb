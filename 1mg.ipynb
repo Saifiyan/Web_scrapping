{
 "cells": [
  {
   "cell_type": "code",
   "execution_count": 1,
   "metadata": {},
   "outputs": [],
   "source": [
    "import pandas as pd \n",
    "import numpy as np \n",
    "import requests \n",
    "import html5lib \n",
    "import json \n",
    "from bs4 import BeautifulSoup\n"
   ]
  },
  {
   "cell_type": "code",
   "execution_count": 2,
   "metadata": {},
   "outputs": [
    {
     "data": {
      "text/plain": [
       "<Response [200]>"
      ]
     },
     "execution_count": 2,
     "metadata": {},
     "output_type": "execute_result"
    }
   ],
   "source": [
    "url = 'https://www.1mg.com/all-diseases?label=a'\n",
    "site = requests.get(url)\n",
    "site"
   ]
  },
  {
   "cell_type": "code",
   "execution_count": 5,
   "metadata": {},
   "outputs": [],
   "source": [
    "html = BeautifulSoup(site.content,'html5lib')"
   ]
  },
  {
   "cell_type": "code",
   "execution_count": 54,
   "metadata": {},
   "outputs": [
    {
     "data": {
      "text/plain": [
       "[]"
      ]
     },
     "execution_count": 54,
     "metadata": {},
     "output_type": "execute_result"
    }
   ],
   "source": [
    "data = html.find_all('div',attrs={'class':'style__flex-1___A_qoj'})\n",
    "data"
   ]
  },
  {
   "cell_type": "code",
   "execution_count": 53,
   "metadata": {},
   "outputs": [
    {
     "data": {
      "text/plain": [
       "[<a class=\"Card__productCard__2MScM marginTop-4 Card__text__2W5M-\" href=\"/diseases/acidity-42\"><div class=\"Card__image__iFQhr col-2\"><img alt=\"Acidity\" src=\"https://res.cloudinary.com/du8msdgbj/image/upload/a_ignore,w_64,h_64,q_auto,f_auto/v1645618231/xddncz7fijzxd9oopf6j.jpg\" title=\"Acidity\"/></div><span class=\"Card__productCard__2MScM Card__direction__1UZ-g col-4\"><p class=\"Card__productName__nowyh bodyMedium\">Acidity</p><p class=\"Card__productDescription__-TaIB\">Acidity is one of the most common ailments that almost every one of us might have...</p></span></a>,\n",
       " <a class=\"Card__productCard__2MScM marginTop-4 Card__text__2W5M-\" href=\"/diseases/acne-261\"><div class=\"Card__image__iFQhr col-2\"><img alt=\"Acne\" src=\"https://res.cloudinary.com/du8msdgbj/image/upload/a_ignore,w_64,h_64,q_auto,f_auto/v1643699099/fpzqnaae3j1lqlh0wrcs.jpg\" title=\"Acne\"/></div><span class=\"Card__productCard__2MScM Card__direction__1UZ-g col-4\"><p class=\"Card__productName__nowyh bodyMedium\">Acne</p><p class=\"Card__productDescription__-TaIB\">Acne is a common condition, which most of us have dealt with at some point in our...</p></span></a>,\n",
       " <a class=\"Card__productCard__2MScM marginTop-4 Card__text__2W5M-\" href=\"/diseases/allergic-conditions-10\"><div class=\"Card__image__iFQhr col-2\"><img alt=\"Allergic conditions\" src=\"https://res.cloudinary.com/du8msdgbj/image/upload/a_ignore,w_64,h_64,q_auto,f_auto/v1643699150/sztyhbbxtdzx7ub2ricz.jpg\" title=\"Allergic conditions\"/></div><span class=\"Card__productCard__2MScM Card__direction__1UZ-g col-4\"><p class=\"Card__productName__nowyh bodyMedium\">Allergic conditions</p><p class=\"Card__productDescription__-TaIB\">Allergies are caused when the body’s immune system responds abnormally to an exte...</p></span></a>,\n",
       " <a class=\"Card__productCard__2MScM marginTop-4 Card__text__2W5M-\" href=\"/diseases/amenorrhea-467\"><div class=\"Card__image__iFQhr col-2\"><img alt=\"Amenorrhea\" src=\"https://res.cloudinary.com/du8msdgbj/image/upload/a_ignore,w_64,h_64,q_auto,f_auto/v1648447656/pwcut8l7jjnmsxqit5oo.jpg\" title=\"Amenorrhea\"/></div><span class=\"Card__productCard__2MScM Card__direction__1UZ-g col-4\"><p class=\"Card__productName__nowyh bodyMedium\">Amenorrhea</p><p class=\"Card__productDescription__-TaIB\">Amenorrhea is defined as the absence of menstruation during the reproductive year...</p></span></a>,\n",
       " <a class=\"Card__productCard__2MScM marginTop-4 Card__text__2W5M-\" href=\"/diseases/anxiety-69\"><div class=\"Card__image__iFQhr col-2\"><img alt=\"Anxiety\" src=\"https://res.cloudinary.com/du8msdgbj/image/upload/a_ignore,w_64,h_64,q_auto,f_auto/v1643699228/cflmf3fhgf6hfblim1ak.jpg\" title=\"Anxiety\"/></div><span class=\"Card__productCard__2MScM Card__direction__1UZ-g col-4\"><p class=\"Card__productName__nowyh bodyMedium\">Anxiety</p><p class=\"Card__productDescription__-TaIB\">Anxiety disorders are the most common types of mental health conditions. Accordin...</p></span></a>,\n",
       " <a class=\"Card__productCard__2MScM marginTop-4 Card__text__2W5M-\" href=\"/diseases/arthritis-117\"><div class=\"Card__image__iFQhr col-2\"><img alt=\"Arthritis\" src=\"https://res.cloudinary.com/du8msdgbj/image/upload/a_ignore,w_64,h_64,q_auto,f_auto/v1643699321/pzbcytyjq7msjxdrnk3d.jpg\" title=\"Arthritis\"/></div><span class=\"Card__productCard__2MScM Card__direction__1UZ-g col-4\"><p class=\"Card__productName__nowyh bodyMedium\">Arthritis</p><p class=\"Card__productDescription__-TaIB\">Arthritis is a common condition that affects joints and bones (especially the kne...</p></span></a>,\n",
       " <a class=\"Card__productCard__2MScM marginTop-4 Card__text__2W5M-\" href=\"/diseases/ascites-922\"><div class=\"Card__image__iFQhr col-2\"><img alt=\"Ascites\" src=\"https://res.cloudinary.com/du8msdgbj/image/upload/a_ignore,w_64,h_64,q_auto,f_auto/v1648617155/kxbckiawtwdkoae7ysn5.jpg\" title=\"Ascites\"/></div><span class=\"Card__productCard__2MScM Card__direction__1UZ-g col-4\"><p class=\"Card__productName__nowyh bodyMedium\">Ascites</p><p class=\"Card__productDescription__-TaIB\">Ascites is a medical condition that results in the accumulation of fluids within ...</p></span></a>,\n",
       " <a class=\"Card__productCard__2MScM marginTop-4 Card__text__2W5M-\" href=\"/diseases/asthma-116\"><div class=\"Card__image__iFQhr col-2\"><img alt=\"Asthma\" src=\"https://res.cloudinary.com/du8msdgbj/image/upload/a_ignore,w_64,h_64,q_auto,f_auto/v1646030520/dl0ivbuuwg5hndeltx96.jpg\" title=\"Asthma\"/></div><span class=\"Card__productCard__2MScM Card__direction__1UZ-g col-4\"><p class=\"Card__productName__nowyh bodyMedium\">Asthma</p><p class=\"Card__productDescription__-TaIB\">Asthma is a long term condition in which air passages in the lungs become narrow ...</p></span></a>]"
      ]
     },
     "execution_count": 53,
     "metadata": {},
     "output_type": "execute_result"
    }
   ],
   "source": [
    "site_specific_content = html.find_all('a',attrs={'class':'Card__productCard__2MScM marginTop-4 Card__text__2W5M-'})\n",
    "site_specific_content"
   ]
  },
  {
   "cell_type": "code",
   "execution_count": 55,
   "metadata": {},
   "outputs": [],
   "source": [
    "detail_view_link = []\n",
    "disease_name = []\n",
    "disease_description = []\n",
    "for item in site_specific_content:\n",
    "    detail_view_link.append(item.attrs['href'])\n",
    "    disease_name.append(item.find('p',attrs={'class':'Card__productName__nowyh bodyMedium'}).string)\n",
    "    disease_description.append(item.find('p',attrs={'class':'Card__productDescription__-TaIB'}).string)"
   ]
  },
  {
   "cell_type": "code",
   "execution_count": 56,
   "metadata": {},
   "outputs": [
    {
     "data": {
      "text/plain": [
       "['/diseases/acidity-42',\n",
       " '/diseases/acne-261',\n",
       " '/diseases/allergic-conditions-10',\n",
       " '/diseases/amenorrhea-467',\n",
       " '/diseases/anxiety-69',\n",
       " '/diseases/arthritis-117',\n",
       " '/diseases/ascites-922',\n",
       " '/diseases/asthma-116']"
      ]
     },
     "execution_count": 56,
     "metadata": {},
     "output_type": "execute_result"
    }
   ],
   "source": [
    "detail_view_link"
   ]
  },
  {
   "cell_type": "code",
   "execution_count": 30,
   "metadata": {},
   "outputs": [
    {
     "data": {
      "text/plain": [
       "['Acidity is one of the most common ailments that almost every one of us might have...',\n",
       " 'Acne is a common condition, which most of us have dealt with at some point in our...',\n",
       " 'Allergies are caused when the body’s immune system responds abnormally to an exte...',\n",
       " 'Amenorrhea is defined as the absence of menstruation during the reproductive year...',\n",
       " 'Anxiety disorders are the most common types of mental health conditions. Accordin...',\n",
       " 'Arthritis is a common condition that affects joints and bones (especially the kne...',\n",
       " 'Ascites is a medical condition that results in the accumulation of fluids within ...',\n",
       " 'Asthma is a long term condition in which air passages in the lungs become narrow ...']"
      ]
     },
     "execution_count": 30,
     "metadata": {},
     "output_type": "execute_result"
    }
   ],
   "source": [
    "disease_description"
   ]
  },
  {
   "cell_type": "code",
   "execution_count": 67,
   "metadata": {},
   "outputs": [],
   "source": [
    "name = []\n",
    "des = []\n",
    "link = []\n",
    "alpha = 'abcdefghijklmnopqrstuvwxyz'\n",
    "async def all_pages_desease(name, des, link):\n",
    "    for single_alpha in alpha:\n",
    "        url = 'https://www.1mg.com/all-diseases?label={0}'.format(single_alpha)\n",
    "        site = requests.get(url)\n",
    "        html = BeautifulSoup(site.content,'html5lib')\n",
    "        site_specific_content = html.find_all('a',attrs={'class':'Card__productCard__2MScM marginTop-4 Card__text__2W5M-'})\n",
    "\n",
    "        for item in site_specific_content:\n",
    "            link.append(item.attrs['href'])\n",
    "            name.append(item.find('p',attrs={'class':'Card__productName__nowyh bodyMedium'}).string)\n",
    "            des.append(item.find('p',attrs={'class':'Card__productDescription__-TaIB'}).string)\n",
    "        \n",
    "\n"
   ]
  },
  {
   "cell_type": "code",
   "execution_count": 68,
   "metadata": {},
   "outputs": [
    {
     "data": {
      "text/plain": [
       "[]"
      ]
     },
     "execution_count": 68,
     "metadata": {},
     "output_type": "execute_result"
    }
   ],
   "source": [
    "link"
   ]
  },
  {
   "cell_type": "code",
   "execution_count": 69,
   "metadata": {},
   "outputs": [],
   "source": [
    "await all_pages_desease(name, des, link)"
   ]
  },
  {
   "cell_type": "code",
   "execution_count": 70,
   "metadata": {},
   "outputs": [
    {
     "data": {
      "text/html": [
       "<div>\n",
       "<style scoped>\n",
       "    .dataframe tbody tr th:only-of-type {\n",
       "        vertical-align: middle;\n",
       "    }\n",
       "\n",
       "    .dataframe tbody tr th {\n",
       "        vertical-align: top;\n",
       "    }\n",
       "\n",
       "    .dataframe thead th {\n",
       "        text-align: right;\n",
       "    }\n",
       "</style>\n",
       "<table border=\"1\" class=\"dataframe\">\n",
       "  <thead>\n",
       "    <tr style=\"text-align: right;\">\n",
       "      <th></th>\n",
       "      <th>Disease Name</th>\n",
       "      <th>Description</th>\n",
       "      <th>Detail View Link</th>\n",
       "    </tr>\n",
       "  </thead>\n",
       "  <tbody>\n",
       "    <tr>\n",
       "      <th>0</th>\n",
       "      <td>Acidity</td>\n",
       "      <td>Acidity is one of the most common ailments tha...</td>\n",
       "      <td>/diseases/acidity-42</td>\n",
       "    </tr>\n",
       "    <tr>\n",
       "      <th>1</th>\n",
       "      <td>Acne</td>\n",
       "      <td>Acne is a common condition, which most of us h...</td>\n",
       "      <td>/diseases/acne-261</td>\n",
       "    </tr>\n",
       "    <tr>\n",
       "      <th>2</th>\n",
       "      <td>Allergic conditions</td>\n",
       "      <td>Allergies are caused when the body’s immune sy...</td>\n",
       "      <td>/diseases/allergic-conditions-10</td>\n",
       "    </tr>\n",
       "    <tr>\n",
       "      <th>3</th>\n",
       "      <td>Amenorrhea</td>\n",
       "      <td>Amenorrhea is defined as the absence of menstr...</td>\n",
       "      <td>/diseases/amenorrhea-467</td>\n",
       "    </tr>\n",
       "    <tr>\n",
       "      <th>4</th>\n",
       "      <td>Anxiety</td>\n",
       "      <td>Anxiety disorders are the most common types of...</td>\n",
       "      <td>/diseases/anxiety-69</td>\n",
       "    </tr>\n",
       "    <tr>\n",
       "      <th>...</th>\n",
       "      <td>...</td>\n",
       "      <td>...</td>\n",
       "      <td>...</td>\n",
       "    </tr>\n",
       "    <tr>\n",
       "      <th>85</th>\n",
       "      <td>Typhoid fever</td>\n",
       "      <td>Typhoid is an age-old intestinal infection mos...</td>\n",
       "      <td>/diseases/typhoid-fever-254</td>\n",
       "    </tr>\n",
       "    <tr>\n",
       "      <th>86</th>\n",
       "      <td>Urinary tract infections (UTIs)</td>\n",
       "      <td>Urinary tract infections (UTIs) are one of the...</td>\n",
       "      <td>/diseases/urinary-tract-infections-utis-530</td>\n",
       "    </tr>\n",
       "    <tr>\n",
       "      <th>87</th>\n",
       "      <td>Vertigo</td>\n",
       "      <td>Vertigo is a sensation of feeling off-balance....</td>\n",
       "      <td>/diseases/vertigo-209</td>\n",
       "    </tr>\n",
       "    <tr>\n",
       "      <th>88</th>\n",
       "      <td>Xerostomia</td>\n",
       "      <td>Xerostomia, commonly known as dry mouth, is a ...</td>\n",
       "      <td>/diseases/xerostomia-910</td>\n",
       "    </tr>\n",
       "    <tr>\n",
       "      <th>89</th>\n",
       "      <td>Zika virus disease</td>\n",
       "      <td>Zika virus disease is a mosquito-borne viral i...</td>\n",
       "      <td>/diseases/zika-virus-disease-919</td>\n",
       "    </tr>\n",
       "  </tbody>\n",
       "</table>\n",
       "<p>90 rows × 3 columns</p>\n",
       "</div>"
      ],
      "text/plain": [
       "                       Disease Name  \\\n",
       "0                           Acidity   \n",
       "1                              Acne   \n",
       "2               Allergic conditions   \n",
       "3                        Amenorrhea   \n",
       "4                           Anxiety   \n",
       "..                              ...   \n",
       "85                    Typhoid fever   \n",
       "86  Urinary tract infections (UTIs)   \n",
       "87                          Vertigo   \n",
       "88                       Xerostomia   \n",
       "89               Zika virus disease   \n",
       "\n",
       "                                          Description  \\\n",
       "0   Acidity is one of the most common ailments tha...   \n",
       "1   Acne is a common condition, which most of us h...   \n",
       "2   Allergies are caused when the body’s immune sy...   \n",
       "3   Amenorrhea is defined as the absence of menstr...   \n",
       "4   Anxiety disorders are the most common types of...   \n",
       "..                                                ...   \n",
       "85  Typhoid is an age-old intestinal infection mos...   \n",
       "86  Urinary tract infections (UTIs) are one of the...   \n",
       "87  Vertigo is a sensation of feeling off-balance....   \n",
       "88  Xerostomia, commonly known as dry mouth, is a ...   \n",
       "89  Zika virus disease is a mosquito-borne viral i...   \n",
       "\n",
       "                               Detail View Link  \n",
       "0                          /diseases/acidity-42  \n",
       "1                            /diseases/acne-261  \n",
       "2              /diseases/allergic-conditions-10  \n",
       "3                      /diseases/amenorrhea-467  \n",
       "4                          /diseases/anxiety-69  \n",
       "..                                          ...  \n",
       "85                  /diseases/typhoid-fever-254  \n",
       "86  /diseases/urinary-tract-infections-utis-530  \n",
       "87                        /diseases/vertigo-209  \n",
       "88                     /diseases/xerostomia-910  \n",
       "89             /diseases/zika-virus-disease-919  \n",
       "\n",
       "[90 rows x 3 columns]"
      ]
     },
     "execution_count": 70,
     "metadata": {},
     "output_type": "execute_result"
    }
   ],
   "source": [
    "df = pd.DataFrame({\n",
    "    'Disease Name':name,\n",
    "    'Description':des,\n",
    "    'Detail View Link':link,\n",
    "})\n",
    "df"
   ]
  },
  {
   "cell_type": "code",
   "execution_count": 71,
   "metadata": {},
   "outputs": [],
   "source": [
    "df.to_excel(\"all disease.xlsx\")"
   ]
  },
  {
   "cell_type": "code",
   "execution_count": null,
   "metadata": {},
   "outputs": [],
   "source": []
  }
 ],
 "metadata": {
  "interpreter": {
   "hash": "26765797518c84542f65ca3ad0c59ddd84745504ff99c2dbcf955accc2de11b6"
  },
  "kernelspec": {
   "display_name": "Python 3.9.0 64-bit",
   "language": "python",
   "name": "python3"
  },
  "language_info": {
   "codemirror_mode": {
    "name": "ipython",
    "version": 3
   },
   "file_extension": ".py",
   "mimetype": "text/x-python",
   "name": "python",
   "nbconvert_exporter": "python",
   "pygments_lexer": "ipython3",
   "version": "3.9.7"
  },
  "orig_nbformat": 4
 },
 "nbformat": 4,
 "nbformat_minor": 2
}
